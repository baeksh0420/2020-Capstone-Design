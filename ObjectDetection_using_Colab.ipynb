{
  "nbformat": 4,
  "nbformat_minor": 0,
  "metadata": {
    "colab": {
      "name": "ObjectDetection using Colab",
      "provenance": []
    },
    "kernelspec": {
      "name": "python3",
      "display_name": "Python 3"
    }
  },
  "cells": [
    {
      "cell_type": "code",
      "metadata": {
        "id": "VljA7j-pihfn",
        "colab_type": "code",
        "colab": {}
      },
      "source": [
        "!pip install tensorflow==1.15.0\n",
        "!pip install object_detection\n",
        "import os"
      ],
      "execution_count": 0,
      "outputs": []
    },
    {
      "cell_type": "code",
      "metadata": {
        "id": "6hx6h2ZO5551",
        "colab_type": "code",
        "colab": {}
      },
      "source": [
        "os.chdir(\"/content/drive/My Drive/Colab Notebooks/4-1Capstone/tensorflow_object_detection_helper_tool-master/\")\n",
        "!python tfgenerator.py"
      ],
      "execution_count": 0,
      "outputs": []
    },
    {
      "cell_type": "code",
      "metadata": {
        "id": "W4SpbOKNUBAf",
        "colab_type": "code",
        "colab": {}
      },
      "source": [
        "!cp -r deployment \"/usr/local/lib/python3.6/dist-packages/\"\n",
        "!cp -r nets \"/usr/local/lib/python3.6/dist-packages/\""
      ],
      "execution_count": 0,
      "outputs": []
    },
    {
      "cell_type": "code",
      "metadata": {
        "id": "azJr4HPrUEkL",
        "colab_type": "code",
        "colab": {}
      },
      "source": [
        "os.chdir(\"/content/drive/My Drive/Colab Notebooks/4-1Capstone/tensorflow_object_detection_helper_tool-master/object_detection/\")\n",
        "!cp -r protos \"/usr/local/lib/python3.6/dist-packages/object_detection/\""
      ],
      "execution_count": 0,
      "outputs": []
    },
    {
      "cell_type": "code",
      "metadata": {
        "id": "h5jIscPRMObf",
        "colab_type": "code",
        "colab": {}
      },
      "source": [
        "os.chdir(\"/content/drive/My Drive/Colab Notebooks/4-1Capstone/tensorflow_object_detection_helper_tool-master/models/research/object_detection/\")\n",
        "!cp -r utils \"/usr/local/lib/python3.6/dist-packages/object_detection/\""
      ],
      "execution_count": 0,
      "outputs": []
    },
    {
      "cell_type": "code",
      "metadata": {
        "id": "pv1yTTnrNwpl",
        "colab_type": "code",
        "colab": {}
      },
      "source": [
        "os.chdir(\"/content/drive/My Drive/Colab Notebooks/4-1Capstone/\") #dataset_util.py 파일위치\n",
        "!cp dataset_util.py \"/usr/local/lib/python3.6/dist-packages/object_detection/utils/\""
      ],
      "execution_count": 0,
      "outputs": []
    },
    {
      "cell_type": "code",
      "metadata": {
        "id": "LA6gMaIEMbak",
        "colab_type": "code",
        "colab": {}
      },
      "source": [
        "os.chdir(\"/content/drive/My Drive/Colab Notebooks/4-1Capstone/tensorflow_object_detection_helper_tool-master/object_detection/\")\n",
        "!cp evaluator.py \"/usr/local/lib/python3.6/dist-packages/object_detection/\""
      ],
      "execution_count": 0,
      "outputs": []
    },
    {
      "cell_type": "code",
      "metadata": {
        "id": "D87ipD4TKrFG",
        "colab_type": "code",
        "colab": {}
      },
      "source": [
        "os.chdir(\"/content/drive/My Drive/Colab Notebooks/4-1Capstone/tensorflow_object_detection_helper_tool-master\")\n",
        "!python main.py -n 3000"
      ],
      "execution_count": 0,
      "outputs": []
    }
  ]
}