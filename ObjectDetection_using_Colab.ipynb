{
  "nbformat": 4,
  "nbformat_minor": 0,
  "metadata": {
    "colab": {
      "name": "ObjectDetection using Colab",
      "provenance": []
    },
    "kernelspec": {
      "name": "python3",
      "display_name": "Python 3"
    }
  },
  "cells": [
    {
      "cell_type": "markdown",
      "metadata": {
        "id": "j3awF3JTSi1E",
        "colab_type": "text"
      },
      "source": [
        "## Capstone Object Detection Using Colab\n",
        "\n",
        "+ 런타임 유형에서 gpu로 바꿔줍니다.\n"
      ]
    },
    {
      "cell_type": "code",
      "metadata": {
        "id": "VljA7j-pihfn",
        "colab_type": "code",
        "colab": {}
      },
      "source": [
        "!pip install tensorflow==1.15.0\n",
        "!pip install object_detection\n",
        "import os"
      ],
      "execution_count": 0,
      "outputs": []
    },
    {
      "cell_type": "markdown",
      "metadata": {
        "id": "-pOBJkw8TN-_",
        "colab_type": "text"
      },
      "source": [
        "+ 구글 드라이브 원하는 위치에다가 아래의 주소에서 깃 클론을 한 후(os.chdir(\"원하는 경로\"), eval_dir, train_dir 폴더에 있는 폴더나 파일을 삭제합니다. "
      ]
    },
    {
      "cell_type": "code",
      "metadata": {
        "id": "HXzoDaicS4ac",
        "colab_type": "code",
        "colab": {}
      },
      "source": [
        "!git clone https://github.com/5taku/tensorflow_object_detection_helper_tool.git"
      ],
      "execution_count": 0,
      "outputs": []
    },
    {
      "cell_type": "markdown",
      "metadata": {
        "id": "cfm7y-INUF_1",
        "colab_type": "text"
      },
      "source": [
        "+ 단말기, 하차벨, 좌석, 버스 입구의 이미지 등을 얻기 위해 아래 주소도 깃클론합니다."
      ]
    },
    {
      "cell_type": "code",
      "metadata": {
        "id": "eExg4AU1TxN1",
        "colab_type": "code",
        "colab": {}
      },
      "source": [
        "!git clone https://github.com/lini1634/2020-Capstone-Design.git"
      ],
      "execution_count": 0,
      "outputs": []
    },
    {
      "cell_type": "markdown",
      "metadata": {
        "id": "SnTFqSt6VG24",
        "colab_type": "text"
      },
      "source": [
        "+ tensorflow_object_detection_helper_tool에 있는 label_map.pbtxt를 아래와 같이 수정합니다. \n",
        "\n",
        "item {\n",
        "  id: 1\n",
        "  name: 'terminal'\n",
        "}\n",
        "\n",
        "item {\n",
        "  id: 2\n",
        "  name: 'seat'\n",
        "}\n",
        "\n",
        "item {\n",
        "  id: 3\n",
        "  name: 'bell'\n",
        "}\n",
        "\n",
        "item {\n",
        "  id: 4\n",
        "  name: 'in'\n",
        "}\n",
        "\n",
        "item {\n",
        "  id: 5\n",
        "  name: 'out'\n",
        "}"
      ]
    },
    {
      "cell_type": "markdown",
      "metadata": {
        "id": "ntmeJJD3VnV2",
        "colab_type": "text"
      },
      "source": [
        "+ 2020-Capstone-Design에 가서 deployment와 nets폴더를 코랩 내의 python3.6/dist-packages에 복사합니다."
      ]
    },
    {
      "cell_type": "code",
      "metadata": {
        "id": "W4SpbOKNUBAf",
        "colab_type": "code",
        "colab": {}
      },
      "source": [
        "!cp -r deployment \"/usr/local/lib/python3.6/dist-packages/\"\n",
        "!cp -r nets \"/usr/local/lib/python3.6/dist-packages/\"\n",
        "!cp -r protos \"/usr/local/lib/python3.6/dist-packages/object_detection/\"\n",
        "!cp -r utils \"/usr/local/lib/python3.6/dist-packages/object_detection/\"\n",
        "!cp dataset_util.py \"/usr/local/lib/python3.6/dist-packages/object_detection/utils/\""
      ],
      "execution_count": 0,
      "outputs": []
    },
    {
      "cell_type": "markdown",
      "metadata": {
        "id": "GcduQAy3XRpw",
        "colab_type": "text"
      },
      "source": [
        "+ Images폴더에 있는 jpg와 xml파일을 가지고 tfrecord파일을 생성합니다."
      ]
    },
    {
      "cell_type": "code",
      "metadata": {
        "id": "6hx6h2ZO5551",
        "colab_type": "code",
        "colab": {}
      },
      "source": [
        "os.chdir(\"/content/drive/My Drive/Colab Notebooks/4-1Capstone/tensorflow_object_detection_helper_tool-master/\")\n",
        "!python tfgenerator.py"
      ],
      "execution_count": 0,
      "outputs": []
    },
    {
      "cell_type": "markdown",
      "metadata": {
        "id": "GKBCNImmXeO2",
        "colab_type": "text"
      },
      "source": [
        "+ 원하는 모델 숫자를 입력하고 스텝 수를 입력한 뒤 학습시작! (50000번 기준으로 5시간 30분정도 걸림)"
      ]
    },
    {
      "cell_type": "code",
      "metadata": {
        "id": "D87ipD4TKrFG",
        "colab_type": "code",
        "colab": {}
      },
      "source": [
        "os.chdir(\"/content/drive/My Drive/Colab Notebooks/4-1Capstone/tensorflow_object_detection_helper_tool-master\")\n",
        "!python main.py -n 3000"
      ],
      "execution_count": 0,
      "outputs": []
    }
  ]
}